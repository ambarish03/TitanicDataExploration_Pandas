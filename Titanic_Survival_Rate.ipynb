{
 "cells": [
  {
   "cell_type": "markdown",
   "metadata": {},
   "source": [
    "# Titanic Data"
   ]
  },
  {
   "cell_type": "markdown",
   "metadata": {},
   "source": [
    "I am going to look at the Titanic data as part of this exercise. The dataset comprises of demographic data of the passengers data, fares paid, and whether they survived the incident. Considering the available information, I would like to focus on understanding the following question:\n",
    "What all factors contributed towards increasing the probability of survival among the Titanic's passengers?"
   ]
  },
  {
   "cell_type": "code",
   "execution_count": 3,
   "metadata": {
    "collapsed": false
   },
   "outputs": [],
   "source": [
    "import pandas as pd\n",
    "import numpy as np\n",
    "import matplotlib.pyplot as plt\n",
    "import seaborn as sns\n",
    "import statsmodels.api as sm\n",
    "from patsy import dmatrices"
   ]
  },
  {
   "cell_type": "markdown",
   "metadata": {},
   "source": [
    "I start by importing the necessary libraries for the analysis."
   ]
  },
  {
   "cell_type": "markdown",
   "metadata": {},
   "source": [
    "# Data Wrangling"
   ]
  },
  {
   "cell_type": "code",
   "execution_count": 15,
   "metadata": {
    "collapsed": false
   },
   "outputs": [
    {
     "name": "stdout",
     "output_type": "stream",
     "text": [
      "   Pclass   Age\n",
      "1       1  38.0\n",
      "2       3  26.0\n",
      "3       1  35.0\n"
     ]
    }
   ],
   "source": [
    "titanic_data = pd.read_csv('titanic_data.csv')\n",
    "titanic_data_orig = titanic_data.copy()\n",
    "print titanic_data_orig.loc[1:3][['Pclass','Age']]"
   ]
  },
  {
   "cell_type": "markdown",
   "metadata": {},
   "source": [
    "I import the datset into a dataframe using the read.csv function in the pandas library."
   ]
  },
  {
   "cell_type": "markdown",
   "metadata": {},
   "source": [
    "I wanted to check if any of the columns in my dataset contains NULLs as it would otherwise distort my aggregate values."
   ]
  },
  {
   "cell_type": "code",
   "execution_count": 693,
   "metadata": {
    "collapsed": false
   },
   "outputs": [
    {
     "data": {
      "text/plain": [
       "PassengerId      0\n",
       "Survived         0\n",
       "Pclass           0\n",
       "Name             0\n",
       "Sex              0\n",
       "Age              0\n",
       "SibSp            0\n",
       "Parch            0\n",
       "Ticket           0\n",
       "Fare             0\n",
       "Cabin          687\n",
       "Embarked         0\n",
       "dtype: int64"
      ]
     },
     "execution_count": 693,
     "metadata": {},
     "output_type": "execute_result"
    }
   ],
   "source": [
    "titanic_data.isnull().sum()"
   ]
  },
  {
   "cell_type": "markdown",
   "metadata": {},
   "source": [
    "I found that Age, Cabin, and Embarked contained NULL. The column \"Cabin\" contained 687 NULLs. The column \"Cabin\" is a nominal variable used to identify the cabin numbers of the passengers and therefore it is not possible to fill in a logical way. As for \"Age\", there were 177 missing values. I used the mean value of \"Age\" to replace the missing values. In the case of \"Embarked\", there were two missing values which I replaced with the most frequent value (Southampton) as this is a categorical variable."
   ]
  },
  {
   "cell_type": "code",
   "execution_count": 689,
   "metadata": {
    "collapsed": false
   },
   "outputs": [],
   "source": [
    "titanic_data['Age'].fillna(titanic_data['Age'].mean(),inplace=True)"
   ]
  },
  {
   "cell_type": "code",
   "execution_count": 690,
   "metadata": {
    "collapsed": false
   },
   "outputs": [
    {
     "data": {
      "text/plain": [
       "PassengerId    False\n",
       "Survived       False\n",
       "Pclass         False\n",
       "Name           False\n",
       "Sex            False\n",
       "Age            False\n",
       "SibSp          False\n",
       "Parch          False\n",
       "Ticket         False\n",
       "Fare           False\n",
       "Cabin           True\n",
       "Embarked       False\n",
       "dtype: bool"
      ]
     },
     "execution_count": 690,
     "metadata": {},
     "output_type": "execute_result"
    }
   ],
   "source": [
    "titanic_data['Embarked'].fillna(titanic_data[\"Embarked\"].value_counts().idxmax(),inplace=True)\n",
    "titanic_data.isnull().any()"
   ]
  },
  {
   "cell_type": "markdown",
   "metadata": {},
   "source": [
    "Finally, I checked if there were any other columns that had missing values except for \"Cabin\" and there were not."
   ]
  },
  {
   "cell_type": "markdown",
   "metadata": {},
   "source": [
    "# Data Exploration & Visualization"
   ]
  },
  {
   "cell_type": "markdown",
   "metadata": {},
   "source": [
    "I started off by first looking how many survivors and non-survivors we have in our data set."
   ]
  },
  {
   "cell_type": "code",
   "execution_count": 649,
   "metadata": {
    "collapsed": false
   },
   "outputs": [
    {
     "data": {
      "text/plain": [
       "Survived\n",
       "0    549\n",
       "1    342\n",
       "Name: PassengerId, dtype: int64"
      ]
     },
     "execution_count": 649,
     "metadata": {},
     "output_type": "execute_result"
    }
   ],
   "source": [
    "titanic_data.groupby('Survived').count()['PassengerId']"
   ]
  },
  {
   "cell_type": "markdown",
   "metadata": {},
   "source": [
    "In the next step, I used common sense to determine what cross-section might provide useful insight of the data. Typically, women and children are favored during rescue operations. I also know (from the movie) that first class passengers were favored while assigning seats in the lifeboats. So I started looking at these cross-sections."
   ]
  },
  {
   "cell_type": "code",
   "execution_count": 650,
   "metadata": {
    "collapsed": false
   },
   "outputs": [
    {
     "data": {
      "text/html": [
       "<div>\n",
       "<table border=\"1\" class=\"dataframe\">\n",
       "  <thead>\n",
       "    <tr style=\"text-align: right;\">\n",
       "      <th></th>\n",
       "      <th></th>\n",
       "      <th>Age</th>\n",
       "    </tr>\n",
       "    <tr>\n",
       "      <th>Survived</th>\n",
       "      <th></th>\n",
       "      <th></th>\n",
       "    </tr>\n",
       "  </thead>\n",
       "  <tbody>\n",
       "    <tr>\n",
       "      <th rowspan=\"8\" valign=\"top\">0</th>\n",
       "      <th>count</th>\n",
       "      <td>549.000000</td>\n",
       "    </tr>\n",
       "    <tr>\n",
       "      <th>mean</th>\n",
       "      <td>30.415100</td>\n",
       "    </tr>\n",
       "    <tr>\n",
       "      <th>std</th>\n",
       "      <td>12.457370</td>\n",
       "    </tr>\n",
       "    <tr>\n",
       "      <th>min</th>\n",
       "      <td>1.000000</td>\n",
       "    </tr>\n",
       "    <tr>\n",
       "      <th>25%</th>\n",
       "      <td>23.000000</td>\n",
       "    </tr>\n",
       "    <tr>\n",
       "      <th>50%</th>\n",
       "      <td>29.699118</td>\n",
       "    </tr>\n",
       "    <tr>\n",
       "      <th>75%</th>\n",
       "      <td>35.000000</td>\n",
       "    </tr>\n",
       "    <tr>\n",
       "      <th>max</th>\n",
       "      <td>74.000000</td>\n",
       "    </tr>\n",
       "    <tr>\n",
       "      <th rowspan=\"8\" valign=\"top\">1</th>\n",
       "      <th>count</th>\n",
       "      <td>342.000000</td>\n",
       "    </tr>\n",
       "    <tr>\n",
       "      <th>mean</th>\n",
       "      <td>28.549778</td>\n",
       "    </tr>\n",
       "    <tr>\n",
       "      <th>std</th>\n",
       "      <td>13.772498</td>\n",
       "    </tr>\n",
       "    <tr>\n",
       "      <th>min</th>\n",
       "      <td>0.420000</td>\n",
       "    </tr>\n",
       "    <tr>\n",
       "      <th>25%</th>\n",
       "      <td>21.000000</td>\n",
       "    </tr>\n",
       "    <tr>\n",
       "      <th>50%</th>\n",
       "      <td>29.699118</td>\n",
       "    </tr>\n",
       "    <tr>\n",
       "      <th>75%</th>\n",
       "      <td>35.000000</td>\n",
       "    </tr>\n",
       "    <tr>\n",
       "      <th>max</th>\n",
       "      <td>80.000000</td>\n",
       "    </tr>\n",
       "  </tbody>\n",
       "</table>\n",
       "</div>"
      ],
      "text/plain": [
       "                       Age\n",
       "Survived                  \n",
       "0        count  549.000000\n",
       "         mean    30.415100\n",
       "         std     12.457370\n",
       "         min      1.000000\n",
       "         25%     23.000000\n",
       "         50%     29.699118\n",
       "         75%     35.000000\n",
       "         max     74.000000\n",
       "1        count  342.000000\n",
       "         mean    28.549778\n",
       "         std     13.772498\n",
       "         min      0.420000\n",
       "         25%     21.000000\n",
       "         50%     29.699118\n",
       "         75%     35.000000\n",
       "         max     80.000000"
      ]
     },
     "execution_count": 650,
     "metadata": {},
     "output_type": "execute_result"
    }
   ],
   "source": [
    "titanic_data.groupby('Survived').describe()[['Age']]"
   ]
  },
  {
   "cell_type": "markdown",
   "metadata": {},
   "source": [
    "With \"Age\", I see that the mean age for Survivors were lower than the Non-Survivors. This could be a result of favoring children during the rescue operation of Titanic. The \"median\" value although same for both groups, it was artifically synthesized during the data cleansing process - therefore holds less value for the purpose of this analysis."
   ]
  },
  {
   "cell_type": "code",
   "execution_count": 651,
   "metadata": {
    "collapsed": false
   },
   "outputs": [
    {
     "data": {
      "text/html": [
       "<div>\n",
       "<table border=\"1\" class=\"dataframe\">\n",
       "  <thead>\n",
       "    <tr style=\"text-align: right;\">\n",
       "      <th>Sex</th>\n",
       "      <th>female</th>\n",
       "      <th>male</th>\n",
       "    </tr>\n",
       "    <tr>\n",
       "      <th>Survived</th>\n",
       "      <th></th>\n",
       "      <th></th>\n",
       "    </tr>\n",
       "  </thead>\n",
       "  <tbody>\n",
       "    <tr>\n",
       "      <th>0</th>\n",
       "      <td>0.257962</td>\n",
       "      <td>0.811092</td>\n",
       "    </tr>\n",
       "    <tr>\n",
       "      <th>1</th>\n",
       "      <td>0.742038</td>\n",
       "      <td>0.188908</td>\n",
       "    </tr>\n",
       "  </tbody>\n",
       "</table>\n",
       "</div>"
      ],
      "text/plain": [
       "Sex         female      male\n",
       "Survived                    \n",
       "0         0.257962  0.811092\n",
       "1         0.742038  0.188908"
      ]
     },
     "execution_count": 651,
     "metadata": {},
     "output_type": "execute_result"
    }
   ],
   "source": [
    "pd.crosstab(titanic_data['Survived'], titanic_data['Sex']).apply(lambda r: r/r.sum(), axis=0)"
   ]
  },
  {
   "cell_type": "markdown",
   "metadata": {},
   "source": [
    "For the variable \"Sex\", I noticed that female passengers had a higher survival rate than male passengers."
   ]
  },
  {
   "cell_type": "code",
   "execution_count": 652,
   "metadata": {
    "collapsed": false
   },
   "outputs": [
    {
     "data": {
      "text/html": [
       "<div>\n",
       "<table border=\"1\" class=\"dataframe\">\n",
       "  <thead>\n",
       "    <tr style=\"text-align: right;\">\n",
       "      <th>Pclass</th>\n",
       "      <th>1</th>\n",
       "      <th>2</th>\n",
       "      <th>3</th>\n",
       "    </tr>\n",
       "    <tr>\n",
       "      <th>Survived</th>\n",
       "      <th></th>\n",
       "      <th></th>\n",
       "      <th></th>\n",
       "    </tr>\n",
       "  </thead>\n",
       "  <tbody>\n",
       "    <tr>\n",
       "      <th>0</th>\n",
       "      <td>0.37037</td>\n",
       "      <td>0.527174</td>\n",
       "      <td>0.757637</td>\n",
       "    </tr>\n",
       "    <tr>\n",
       "      <th>1</th>\n",
       "      <td>0.62963</td>\n",
       "      <td>0.472826</td>\n",
       "      <td>0.242363</td>\n",
       "    </tr>\n",
       "  </tbody>\n",
       "</table>\n",
       "</div>"
      ],
      "text/plain": [
       "Pclass          1         2         3\n",
       "Survived                             \n",
       "0         0.37037  0.527174  0.757637\n",
       "1         0.62963  0.472826  0.242363"
      ]
     },
     "execution_count": 652,
     "metadata": {},
     "output_type": "execute_result"
    }
   ],
   "source": [
    "pd.crosstab(titanic_data['Survived'], titanic_data['Pclass']).apply(lambda r: r/r.sum(), axis=0)"
   ]
  },
  {
   "cell_type": "markdown",
   "metadata": {},
   "source": [
    "I noticed that the survival rate for passengers travelling in the 1st Class was significantly higher with regards to those traveling in the 3rd Class and 2nd class passengers were in between the two. This observation also agreed with my hypothesis that I had before starting the analysis (based on what I read and saw in the movie)."
   ]
  },
  {
   "cell_type": "code",
   "execution_count": 653,
   "metadata": {
    "collapsed": false
   },
   "outputs": [
    {
     "data": {
      "text/html": [
       "<div>\n",
       "<table border=\"1\" class=\"dataframe\">\n",
       "  <thead>\n",
       "    <tr style=\"text-align: right;\">\n",
       "      <th>Embarked</th>\n",
       "      <th>C</th>\n",
       "      <th>Q</th>\n",
       "      <th>S</th>\n",
       "    </tr>\n",
       "    <tr>\n",
       "      <th>Survived</th>\n",
       "      <th></th>\n",
       "      <th></th>\n",
       "      <th></th>\n",
       "    </tr>\n",
       "  </thead>\n",
       "  <tbody>\n",
       "    <tr>\n",
       "      <th>0</th>\n",
       "      <td>0.446429</td>\n",
       "      <td>0.61039</td>\n",
       "      <td>0.660991</td>\n",
       "    </tr>\n",
       "    <tr>\n",
       "      <th>1</th>\n",
       "      <td>0.553571</td>\n",
       "      <td>0.38961</td>\n",
       "      <td>0.339009</td>\n",
       "    </tr>\n",
       "  </tbody>\n",
       "</table>\n",
       "</div>"
      ],
      "text/plain": [
       "Embarked         C        Q         S\n",
       "Survived                             \n",
       "0         0.446429  0.61039  0.660991\n",
       "1         0.553571  0.38961  0.339009"
      ]
     },
     "execution_count": 653,
     "metadata": {},
     "output_type": "execute_result"
    }
   ],
   "source": [
    "pd.crosstab(titanic_data['Survived'], titanic_data['Embarked']).apply(lambda r: r/r.sum(), axis=0)"
   ]
  },
  {
   "cell_type": "markdown",
   "metadata": {},
   "source": [
    "Another variable that I looked at was the Emabrking Port. I noticed that the survival rate for people who embarked on Titanic at Cherbourg (C) was relatively higher in comparison to those who embarked at Queenstown (Q) or Southampton (S)."
   ]
  },
  {
   "cell_type": "code",
   "execution_count": 654,
   "metadata": {
    "collapsed": false
   },
   "outputs": [
    {
     "data": {
      "text/html": [
       "<div>\n",
       "<table border=\"1\" class=\"dataframe\">\n",
       "  <thead>\n",
       "    <tr style=\"text-align: right;\">\n",
       "      <th></th>\n",
       "      <th>SibSp</th>\n",
       "      <th>Parch</th>\n",
       "      <th>Fare</th>\n",
       "    </tr>\n",
       "    <tr>\n",
       "      <th>Survived</th>\n",
       "      <th></th>\n",
       "      <th></th>\n",
       "      <th></th>\n",
       "    </tr>\n",
       "  </thead>\n",
       "  <tbody>\n",
       "    <tr>\n",
       "      <th>0</th>\n",
       "      <td>0.553734</td>\n",
       "      <td>0.329690</td>\n",
       "      <td>22.117887</td>\n",
       "    </tr>\n",
       "    <tr>\n",
       "      <th>1</th>\n",
       "      <td>0.473684</td>\n",
       "      <td>0.464912</td>\n",
       "      <td>48.395408</td>\n",
       "    </tr>\n",
       "  </tbody>\n",
       "</table>\n",
       "</div>"
      ],
      "text/plain": [
       "             SibSp     Parch       Fare\n",
       "Survived                               \n",
       "0         0.553734  0.329690  22.117887\n",
       "1         0.473684  0.464912  48.395408"
      ]
     },
     "execution_count": 654,
     "metadata": {},
     "output_type": "execute_result"
    }
   ],
   "source": [
    "titanic_data.groupby('Survived').mean()[['SibSp','Parch','Fare']]"
   ]
  },
  {
   "cell_type": "markdown",
   "metadata": {},
   "source": [
    "I looked at all the cross-section of the continuous variables for both survivors and non-survivors. As expected, we see signifcantly different mean fares paid by the two groups. However the other two variables - \"Parch\" (# of traveling parents/children) and \"SibSp\" (# of traveling siblings/spouse) did not exhibit such marked differences between the two groups."
   ]
  },
  {
   "cell_type": "code",
   "execution_count": 694,
   "metadata": {
    "collapsed": false
   },
   "outputs": [],
   "source": [
    "#titanic_data[\"Survived\"] = titanic_data[\"Survived\"].astype(\"category\",ordered=False)\n",
    "titanic_data[\"Sex\"] = titanic_data[\"Sex\"].astype(\"category\",ordered=False)\n",
    "titanic_data[\"Pclass\"] = titanic_data[\"Pclass\"].astype(\"category\",ordered=False)\n",
    "titanic_data[\"Embarked\"] = titanic_data[\"Embarked\"].astype(\"category\",ordered=False)"
   ]
  },
  {
   "cell_type": "markdown",
   "metadata": {},
   "source": [
    "The purpose of this step was to convert the categorical variables from strings or numbers to categories."
   ]
  },
  {
   "cell_type": "code",
   "execution_count": 656,
   "metadata": {
    "collapsed": false
   },
   "outputs": [],
   "source": [
    "titanic_data[\"Sex_Numerical\"] = (titanic_data[\"Sex\"] == 'female').astype(\"int\")"
   ]
  },
  {
   "cell_type": "markdown",
   "metadata": {},
   "source": [
    "The categorical variable \"Sex\" was coded as \"male\" and \"female\" which would have made it impossible to plot in a histogram. So I recoded the \"Sex\" variable as \"Sex_Numerical\" where 1 represents \"female\" and 0 \"male\"."
   ]
  },
  {
   "cell_type": "code",
   "execution_count": 657,
   "metadata": {
    "collapsed": false
   },
   "outputs": [
    {
     "data": {
      "text/plain": [
       "count    891.000000\n",
       "mean      32.204208\n",
       "std       49.693429\n",
       "min        0.000000\n",
       "25%        7.910400\n",
       "50%       14.454200\n",
       "75%       31.000000\n",
       "max      512.329200\n",
       "Name: Fare, dtype: float64"
      ]
     },
     "execution_count": 657,
     "metadata": {},
     "output_type": "execute_result"
    }
   ],
   "source": [
    "titanic_data[\"Fare\"].describe()"
   ]
  },
  {
   "cell_type": "code",
   "execution_count": 695,
   "metadata": {
    "collapsed": false
   },
   "outputs": [],
   "source": [
    "def assign_fare_cat(fare):\n",
    "    fare_cat = None\n",
    "    if fare < 7.91:\n",
    "        fare_cat = 1\n",
    "    elif fare > 7.91 and fare < 14.45:\n",
    "        fare_cat = 2\n",
    "    elif fare > 14.45 and fare < 31:\n",
    "        fare_cat = 3\n",
    "    else:\n",
    "        fare_cat = 4\n",
    "    return fare_cat\n",
    "\n",
    "titanic_data[\"Fare_Cat\"] = titanic_data[\"Fare\"].apply(assign_fare_cat)"
   ]
  },
  {
   "cell_type": "markdown",
   "metadata": {},
   "source": [
    "I wanted to plot the cross-section of \"Fare\" vs \"Survived\". \"Fare\" is a continuous variable and therefore histograms plotted using \"Fare\" was getting very dense towards the lower values making it hard to notice any artifacts. The highest value was 512 which made the bin sizes very big for any reasonable value for \"Number of bins\". So I discretized this variable as well based on the quartiles for \"Fare\" and renamed it as \"Fare_Cat\"."
   ]
  },
  {
   "cell_type": "code",
   "execution_count": 696,
   "metadata": {
    "collapsed": false
   },
   "outputs": [],
   "source": [
    "def assign_embark_num(embark):\n",
    "    embark_num = None\n",
    "    if embark == \"C\":\n",
    "        embark_num = 1\n",
    "    elif embark == \"Q\":\n",
    "        embark_num = 2\n",
    "    else:\n",
    "        embark_num = 3\n",
    "    return embark_num\n",
    "\n",
    "titanic_data[\"Embark_Num\"] = titanic_data[\"Embarked\"].apply(assign_embark_num)"
   ]
  },
  {
   "cell_type": "markdown",
   "metadata": {},
   "source": [
    "I recoded the \"Embarked\" variable to a numerical format for the same reason as illustrated above for \"Sex\" (to plot in a histogram)."
   ]
  },
  {
   "cell_type": "markdown",
   "metadata": {},
   "source": [
    "# Data Visualization"
   ]
  },
  {
   "cell_type": "code",
   "execution_count": 660,
   "metadata": {
    "collapsed": true
   },
   "outputs": [],
   "source": [
    "def get_survival_rate_mod(varName, varValue):\n",
    "    return (len(titanic_data[(titanic_data[varName]==varValue) & (titanic_data[\"Survived\"]==1)]['Survived'])\\\n",
    "            /float(len(titanic_data[titanic_data[varName]==varValue]['Survived'])),\\\n",
    "           len(titanic_data[(titanic_data[varName]==varValue) & (titanic_data[\"Survived\"]==0)]['Survived'])\\\n",
    "            /float(len(titanic_data[titanic_data[varName]==varValue]['Survived'])))"
   ]
  },
  {
   "cell_type": "code",
   "execution_count": 661,
   "metadata": {
    "collapsed": false
   },
   "outputs": [
    {
     "data": {
      "text/plain": [
       "([<matplotlib.axis.XTick at 0x13cf99cd0>,\n",
       "  <matplotlib.axis.XTick at 0x13ca92610>],\n",
       " <a list of 2 Text xticklabel objects>)"
      ]
     },
     "execution_count": 661,
     "metadata": {},
     "output_type": "execute_result"
    },
    {
     "data": {
      "image/png": "[encoded data removed]",
      "text/plain": [
       "<matplotlib.figure.Figure at 0x13ca927d0>"
      ]
     },
     "metadata": {},
     "output_type": "display_data"
    }
   ],
   "source": [
    "%matplotlib inline\n",
    "plt.rcParams['axes.facecolor'] = 'white'\n",
    "\n",
    "plt.hist(titanic_data[\"Sex_Numerical\"], bins=4)\n",
    "plt.title(\"Distribution of Passengers by Gender\")\n",
    "plt.xlabel(\"Gender\")\n",
    "plt.ylabel(\"Passenger Count\")\n",
    "xticks_location = (0.05,0.9)\n",
    "plt.xticks(xticks_location, ('Male', 'Female'))"
   ]
  },
  {
   "cell_type": "markdown",
   "metadata": {},
   "source": [
    "###### Figure 1: Distribution of male and female passengers"
   ]
  },
  {
   "cell_type": "code",
   "execution_count": 662,
   "metadata": {
    "collapsed": false
   },
   "outputs": [
    {
     "data": {
      "text/plain": [
       "([<matplotlib.axis.XTick at 0x13a923f50>,\n",
       "  <matplotlib.axis.XTick at 0x13cc512d0>],\n",
       " <a list of 2 Text xticklabel objects>)"
      ]
     },
     "execution_count": 662,
     "metadata": {},
     "output_type": "execute_result"
    },
    {
     "data": {
      "image/png": "[encoded data removed]",
      "text/plain": [
       "<matplotlib.figure.Figure at 0x13beb7a50>"
      ]
     },
     "metadata": {},
     "output_type": "display_data"
    }
   ],
   "source": [
    "plt.hist([titanic_data[titanic_data[\"Survived\"]==1]['Sex_Numerical'],titanic_data[titanic_data[\"Survived\"]==0]\\\n",
    "          ['Sex_Numerical']],histtype='bar',bins=2)\n",
    "#plt.hist(titanic_data[titanic_data[\"Survived\"]==0]['Pclass'],histtype='bar')\n",
    "plt.title(\"Distribution of Passengers by Gender\")\n",
    "plt.legend(('Survived','Did not survive'))\n",
    "plt.xlabel(\"Gender\")\n",
    "plt.ylabel(\"Passenger Count\")\n",
    "xticks_location = (0.15,0.85)\n",
    "plt.xticks(xticks_location, ('Male', 'Female'))"
   ]
  },
  {
   "cell_type": "markdown",
   "metadata": {},
   "source": [
    "###### Figure 2: Distribution of survivors b/w men and women"
   ]
  },
  {
   "cell_type": "code",
   "execution_count": 663,
   "metadata": {
    "collapsed": false
   },
   "outputs": [
    {
     "data": {
      "text/plain": [
       "([<matplotlib.axis.XTick at 0x13d2b10d0>,\n",
       "  <matplotlib.axis.XTick at 0x13d08a350>],\n",
       " <a list of 2 Text xticklabel objects>)"
      ]
     },
     "execution_count": 663,
     "metadata": {},
     "output_type": "execute_result"
    },
    {
     "data": {
      "image/png": "[encoded data removed]",
      "text/plain": [
       "<matplotlib.figure.Figure at 0x13cfff1d0>"
      ]
     },
     "metadata": {},
     "output_type": "display_data"
    }
   ],
   "source": [
    "survival_rates_by_female = get_survival_rate_mod('Sex','female')\n",
    "survival_rates_by_male = get_survival_rate_mod('Sex','male')\n",
    "\n",
    "survival_rates_by_gender = (survival_rates_by_male[0],survival_rates_by_female[0])\n",
    "non_survival_rates_by_gender = (survival_rates_by_male[1],survival_rates_by_female[1])\n",
    "\n",
    "p1 = plt.bar(range(1,3), survival_rates_by_gender, 0.5, color='b')\n",
    "p2 = plt.bar(range(1,3), non_survival_rates_by_gender, 0.5, color='y', bottom=survival_rates_by_gender)\n",
    "xticks_location = (1.25,2.25)\n",
    "\n",
    "plt.title(\"Survival Rates by Gender\")\n",
    "plt.legend((p1[0], p2[0]), ('Survivors', 'Non-survivors'), loc=3, bbox_to_anchor=(1, 0.85))\n",
    "plt.xlabel(\"Gender\")\n",
    "plt.ylabel(\"Relative Passenger Count\")\n",
    "plt.xticks(xticks_location, ('Male', 'Female'))"
   ]
  },
  {
   "cell_type": "markdown",
   "metadata": {},
   "source": [
    "###### Figure 3: Relative proportion of survivors b/w male and female"
   ]
  },
  {
   "cell_type": "markdown",
   "metadata": {},
   "source": [
    "Figures 1 through 3 show the number of male and female passengers in our dataset, the number of survivors among men and women, and finally the relative survival rate between men and women. It is clear from these figures that the survival rate for women was relatively higher than among men."
   ]
  },
  {
   "cell_type": "code",
   "execution_count": 664,
   "metadata": {
    "collapsed": false,
    "scrolled": true
   },
   "outputs": [
    {
     "data": {
      "text/plain": [
       "([<matplotlib.axis.XTick at 0x13cfeb950>,\n",
       "  <matplotlib.axis.XTick at 0x13cb71110>,\n",
       "  <matplotlib.axis.XTick at 0x13d3fd510>],\n",
       " <a list of 3 Text xticklabel objects>)"
      ]
     },
     "execution_count": 664,
     "metadata": {},
     "output_type": "execute_result"
    },
    {
     "data": {
      "image/png": "[encoded data removed]",
      "text/plain": [
       "<matplotlib.figure.Figure at 0x13cc70f90>"
      ]
     },
     "metadata": {},
     "output_type": "display_data"
    }
   ],
   "source": [
    "plt.hist(titanic_data['Pclass'], bins=5)\n",
    "plt.title(\"Distribution of Passengers by Class\")\n",
    "plt.xlabel(\"Clsss\")\n",
    "plt.ylabel(\"Passenger Count\")\n",
    "xticks_location = (1.1,2.1,2.9)\n",
    "plt.xticks(xticks_location, ('Class 1', 'Class 2', 'Class 3'))"
   ]
  },
  {
   "cell_type": "markdown",
   "metadata": {},
   "source": [
    "###### Figure 4: Distribution of class 1, class 2, and class 3 passengers"
   ]
  },
  {
   "cell_type": "code",
   "execution_count": 665,
   "metadata": {
    "collapsed": false
   },
   "outputs": [
    {
     "data": {
      "text/plain": [
       "([<matplotlib.axis.XTick at 0x13cf84a50>,\n",
       "  <matplotlib.axis.XTick at 0x137dd3c10>,\n",
       "  <matplotlib.axis.XTick at 0x1381b8d10>],\n",
       " <a list of 3 Text xticklabel objects>)"
      ]
     },
     "execution_count": 665,
     "metadata": {},
     "output_type": "execute_result"
    },
    {
     "data": {
      "image/png": "[encoded data removed]",
      "text/plain": [
       "<matplotlib.figure.Figure at 0x13d29ba90>"
      ]
     },
     "metadata": {},
     "output_type": "display_data"
    }
   ],
   "source": [
    "plt.hist([titanic_data[titanic_data[\"Survived\"]==1]['Pclass'],titanic_data[titanic_data[\"Survived\"]==0]\\\n",
    "          ['Pclass']],histtype='bar',bins=3)\n",
    "#plt.hist(titanic_data[titanic_data[\"Survived\"]==0]['Pclass'],histtype='bar')\n",
    "plt.title(\"Distribution of Passengers by Class\")\n",
    "plt.legend(('Survived','Did not survive'))\n",
    "plt.xlabel(\"Clsss\")\n",
    "plt.ylabel(\"Passenger Count\")\n",
    "xticks_location = (1.1,2.1,2.9)\n",
    "plt.xticks(xticks_location, ('Class 1', 'Class 2', 'Class 3'))"
   ]
  },
  {
   "cell_type": "markdown",
   "metadata": {},
   "source": [
    "###### Figure 5: Distribution of survivors b/w passenger classes"
   ]
  },
  {
   "cell_type": "code",
   "execution_count": 671,
   "metadata": {
    "collapsed": false
   },
   "outputs": [
    {
     "data": {
      "text/plain": [
       "[<matplotlib.text.Text at 0x13812e1d0>,\n",
       " <matplotlib.text.Text at 0x138041ed0>,\n",
       " <matplotlib.text.Text at 0x138398410>]"
      ]
     },
     "execution_count": 671,
     "metadata": {},
     "output_type": "execute_result"
    },
    {
     "data": {
      "image/png": "[encoded data removed]",
      "text/plain": [
       "<matplotlib.figure.Figure at 0x1383111d0>"
      ]
     },
     "metadata": {},
     "output_type": "display_data"
    }
   ],
   "source": [
    "t = titanic_data.groupby(['Pclass', 'Sex'])['Survived'].mean().reset_index()\n",
    "p = sns.barplot(data =t, x = 'Pclass', y = 'Survived', hue = 'Sex')\n",
    "p.set(title = 'Survivability by Gender and Class', xlabel = '', ylabel = 'Probability of Survival')"
   ]
  },
  {
   "cell_type": "markdown",
   "metadata": {},
   "source": [
    "###### Figure 6: Probability of Survival by Gender and Passenger Class "
   ]
  },
  {
   "cell_type": "code",
   "execution_count": 673,
   "metadata": {
    "collapsed": false
   },
   "outputs": [
    {
     "data": {
      "text/plain": [
       "([<matplotlib.axis.XTick at 0x13d6b9810>,\n",
       "  <matplotlib.axis.XTick at 0x13d6b9910>,\n",
       "  <matplotlib.axis.XTick at 0x13d9b2990>],\n",
       " <a list of 3 Text xticklabel objects>)"
      ]
     },
     "execution_count": 673,
     "metadata": {},
     "output_type": "execute_result"
    },
    {
     "data": {
      "image/png": "[encoded data removed]",
      "text/plain": [
       "<matplotlib.figure.Figure at 0x1383a1210>"
      ]
     },
     "metadata": {},
     "output_type": "display_data"
    }
   ],
   "source": [
    "survival_rates_by_class1 = get_survival_rate_mod('Pclass',1)\n",
    "survival_rates_by_class2 = get_survival_rate_mod('Pclass',2)\n",
    "survival_rates_by_class3 = get_survival_rate_mod('Pclass',3)\n",
    "\n",
    "survival_rates_by_class = (survival_rates_by_class1[0],survival_rates_by_class2[0],survival_rates_by_class3[0])\n",
    "non_survival_rates_by_class = (survival_rates_by_class1[1],survival_rates_by_class2[1],survival_rates_by_class3[1])\n",
    "xticks_location = (1.25,2.25,3.25)\n",
    "\n",
    "p1 = plt.bar(range(1,4), survival_rates_by_class, 0.5, color='b')\n",
    "p2 = plt.bar(range(1,4), non_survival_rates_by_class, 0.5, color='y', bottom=survival_rates_by_class)\n",
    "\n",
    "plt.title(\"Survival Rates by Passenger Class\")\n",
    "plt.legend((p1[0], p2[0]), ('Survivors', 'Non-survivors'), loc=3, bbox_to_anchor=(1, 0.85))\n",
    "plt.xlabel(\"Clsss\")\n",
    "plt.ylabel(\"Relative Passenger Count\")\n",
    "plt.xticks(xticks_location, ('Class 1', 'Class 2', 'Class 3'))"
   ]
  },
  {
   "cell_type": "markdown",
   "metadata": {},
   "source": [
    "###### Figure 7: Relative proportion of survivors b/w passenger classes"
   ]
  },
  {
   "cell_type": "markdown",
   "metadata": {},
   "source": [
    "Figures 4 through 7 show the number of passengers traveling in classes 1, 2, and 3 in our dataset, the number of survivors in each of three separate classes, the relative survival rate between these classes, and finally the survival rates between men and women by passenger class. There is a noticeable trend in the data - the chances of survival improve from class 3 to 2 and and 2 to 1. It was also interesting to note that the survival rate among women in passenger classes 1 and 2 were almost 100% while that for women in class 3 it is about half of that."
   ]
  },
  {
   "cell_type": "code",
   "execution_count": 700,
   "metadata": {
    "collapsed": false
   },
   "outputs": [
    {
     "data": {
      "text/plain": [
       "<matplotlib.text.Text at 0x14104a3d0>"
      ]
     },
     "execution_count": 700,
     "metadata": {},
     "output_type": "execute_result"
    },
    {
     "data": {
      "image/png": "[encoded data removed]",
      "text/plain": [
       "<matplotlib.figure.Figure at 0x140697250>"
      ]
     },
     "metadata": {},
     "output_type": "display_data"
    }
   ],
   "source": [
    "sns.boxplot(data = titanic_data.dropna(subset = ['Fare']),x = 'Fare')\n",
    "plt.title(\"Distribution of Passenger Fares\")"
   ]
  },
  {
   "cell_type": "markdown",
   "metadata": {},
   "source": [
    "###### Figure 8: Distribution of Passenger Fares"
   ]
  },
  {
   "cell_type": "code",
   "execution_count": 672,
   "metadata": {
    "collapsed": false
   },
   "outputs": [
    {
     "data": {
      "text/plain": [
       "<matplotlib.text.Text at 0x13d591a90>"
      ]
     },
     "execution_count": 672,
     "metadata": {},
     "output_type": "execute_result"
    },
    {
     "data": {
      "image/png": "[encoded data removed]",
      "text/plain": [
       "<matplotlib.figure.Figure at 0x138e56c90>"
      ]
     },
     "metadata": {},
     "output_type": "display_data"
    }
   ],
   "source": [
    "sns.boxplot(data = titanic_data.dropna(subset = ['Fare']), x = 'Pclass', y = 'Fare')\n",
    "\n",
    "plt.title(\"Distribution of Fare by Passenger Class\")"
   ]
  },
  {
   "cell_type": "markdown",
   "metadata": {},
   "source": [
    "###### Figure 9: Distribution of fare by passenger classes\n",
    "(It is evenly distributed because the splits were created based on the quartile boundaries)"
   ]
  },
  {
   "cell_type": "code",
   "execution_count": 676,
   "metadata": {
    "collapsed": false
   },
   "outputs": [
    {
     "data": {
      "text/plain": [
       "([<matplotlib.axis.XTick at 0x13d563bd0>,\n",
       "  <matplotlib.axis.XTick at 0x13d563cd0>,\n",
       "  <matplotlib.axis.XTick at 0x13dbebd50>,\n",
       "  <matplotlib.axis.XTick at 0x13dbf7410>],\n",
       " <a list of 4 Text xticklabel objects>)"
      ]
     },
     "execution_count": 676,
     "metadata": {},
     "output_type": "execute_result"
    },
    {
     "data": {
      "image/png": "[encoded data removed]",
      "text/plain": [
       "<matplotlib.figure.Figure at 0x13d72c250>"
      ]
     },
     "metadata": {},
     "output_type": "display_data"
    }
   ],
   "source": [
    "survival_rates_by_fare_cat1 = get_survival_rate_mod('Fare_Cat',1)\n",
    "survival_rates_by_fare_cat2 = get_survival_rate_mod('Fare_Cat',2)\n",
    "survival_rates_by_fare_cat3 = get_survival_rate_mod('Fare_Cat',3)\n",
    "survival_rates_by_fare_cat4 = get_survival_rate_mod('Fare_Cat',4)\n",
    "\n",
    "survival_rates_by_fare_quart = (survival_rates_by_fare_cat1[0],survival_rates_by_fare_cat2[0],\\\n",
    "                                survival_rates_by_fare_cat3[0],survival_rates_by_fare_cat4[0])\n",
    "non_survival_rates_by_fare_quart = (survival_rates_by_fare_cat1[1],survival_rates_by_fare_cat2[1],\n",
    "                                    survival_rates_by_fare_cat3[1],survival_rates_by_fare_cat4[1])\n",
    "\n",
    "p1 = plt.bar(range(1,5), survival_rates_by_fare_quart, 0.5, color='b')\n",
    "p2 = plt.bar(range(1,5), non_survival_rates_by_fare_quart, 0.5, color='y', bottom=survival_rates_by_fare_quart)\n",
    "\n",
    "plt.title(\"Survival Rates by Fare Quartiles\")\n",
    "plt.legend((p1[0], p2[0]), ('Survivors', 'Non-survivors'), loc=3, bbox_to_anchor=(1, 0.85))\n",
    "plt.xlabel(\"Fare Quartiles\")\n",
    "plt.ylabel(\"Relative Passenger Count\")\n",
    "xticks_location = (1.25,2.25,3.25,4.25)\n",
    "plt.xticks(xticks_location, ('Q1', 'Q2', 'Q3', 'Q4'))"
   ]
  },
  {
   "cell_type": "markdown",
   "metadata": {},
   "source": [
    "###### Figure 10: Relative proportion of survivors b/w fare quartiles"
   ]
  },
  {
   "cell_type": "markdown",
   "metadata": {},
   "source": [
    "Figures 8 through 10 show the distribution of passenger fares, its distribution among passengers traveling in different classes, and the relative survival rates in each fare quartile. It is quite evident from Figure 9 that the average fare paid by passengers traveling in Class 1 was higher than Class 2 which was higher than Class 3. The figure also indicates that there was at least one outlier that was above and beyond any other record in the dataset. The trend for the survival rate is linear and increases monotonically as we go from lowest to the highest fare quartile. This is not surprising as passengers traveling in higher classes (denoted by lower number) tend to pay higher fares. Previous figures have already shown the survival rate in Classes 1 and 2 to be substantially higher than Class 3. Therefore, these two variables are highly correlated and the survival trends mimic each other."
   ]
  },
  {
   "cell_type": "code",
   "execution_count": 678,
   "metadata": {
    "collapsed": false
   },
   "outputs": [
    {
     "data": {
      "text/plain": [
       "([<matplotlib.axis.XTick at 0x13d56b390>,\n",
       "  <matplotlib.axis.XTick at 0x13d5637d0>,\n",
       "  <matplotlib.axis.XTick at 0x13dd1ad90>],\n",
       " <a list of 3 Text xticklabel objects>)"
      ]
     },
     "execution_count": 678,
     "metadata": {},
     "output_type": "execute_result"
    },
    {
     "data": {
      "image/png": "[encoded data removed]",
      "text/plain": [
       "<matplotlib.figure.Figure at 0x13d7afc90>"
      ]
     },
     "metadata": {},
     "output_type": "display_data"
    }
   ],
   "source": [
    "plt.hist(titanic_data[\"Embark_Num\"], bins=5)\n",
    "\n",
    "plt.title(\"Distribution of Passengers by Embarking Port\")\n",
    "plt.xlabel(\"Embarking Port\")\n",
    "plt.ylabel(\"Passenger Count\")\n",
    "xticks_location = (1.2,2.0,2.8)\n",
    "plt.xticks(xticks_location, ('C', 'Q', 'S'))"
   ]
  },
  {
   "cell_type": "markdown",
   "metadata": {},
   "source": [
    "###### Figure 11: Distribution of passengers by embarking port"
   ]
  },
  {
   "cell_type": "code",
   "execution_count": 697,
   "metadata": {
    "collapsed": false
   },
   "outputs": [
    {
     "data": {
      "text/plain": [
       "([<matplotlib.axis.XTick at 0x13fe8ca10>,\n",
       "  <matplotlib.axis.XTick at 0x13fbefb90>,\n",
       "  <matplotlib.axis.XTick at 0x14018f110>],\n",
       " <a list of 3 Text xticklabel objects>)"
      ]
     },
     "execution_count": 697,
     "metadata": {},
     "output_type": "execute_result"
    },
    {
     "data": {
      "image/png": "[encoded data removed]",
      "text/plain": [
       "<matplotlib.figure.Figure at 0x13fe96dd0>"
      ]
     },
     "metadata": {},
     "output_type": "display_data"
    }
   ],
   "source": [
    "plt.hist([titanic_data[titanic_data[\"Survived\"]==1]['Embark_Num'],titanic_data[titanic_data[\"Survived\"]==0]\\\n",
    "          ['Embark_Num']],histtype='bar',bins=5)\n",
    "#plt.hist(titanic_data[titanic_data[\"Survived\"]==0]['Pclass'],histtype='bar')\n",
    "plt.title(\"Distribution of Passengers by Embarking Port\")\n",
    "plt.legend(('Survived','Did not survive'))\n",
    "plt.xlabel(\"Embarking Port\")\n",
    "plt.ylabel(\"Passenger Count\")\n",
    "xticks_location = (1.2,2.0,2.8)\n",
    "plt.xticks(xticks_location, ('C', 'Q', 'S'))"
   ]
  },
  {
   "cell_type": "markdown",
   "metadata": {},
   "source": [
    "###### Figure 12: Distribution of survivors b/w embarking ports"
   ]
  },
  {
   "cell_type": "code",
   "execution_count": 680,
   "metadata": {
    "collapsed": false
   },
   "outputs": [
    {
     "data": {
      "text/plain": [
       "([<matplotlib.axis.XTick at 0x13dfcb150>,\n",
       "  <matplotlib.axis.XTick at 0x13da73f10>,\n",
       "  <matplotlib.axis.XTick at 0x13e28dd50>],\n",
       " <a list of 3 Text xticklabel objects>)"
      ]
     },
     "execution_count": 680,
     "metadata": {},
     "output_type": "execute_result"
    },
    {
     "data": {
      "image/png": "[encoded data removed]",
      "text/plain": [
       "<matplotlib.figure.Figure at 0x13d589610>"
      ]
     },
     "metadata": {},
     "output_type": "display_data"
    }
   ],
   "source": [
    "survival_rates_by_portC = get_survival_rate_mod('Embarked','C')\n",
    "survival_rates_by_portQ = get_survival_rate_mod('Embarked','Q')\n",
    "survival_rates_by_portS = get_survival_rate_mod('Embarked','S')\n",
    "\n",
    "survival_rates_by_port = (survival_rates_by_portC[0],survival_rates_by_portQ[0],survival_rates_by_portS[0])\n",
    "non_survival_rates_by_port = (survival_rates_by_portC[1],survival_rates_by_portQ[1],survival_rates_by_portS[1])\n",
    "\n",
    "p1 = plt.bar(range(1,4), survival_rates_by_port, 0.5, color='b')\n",
    "p2 = plt.bar(range(1,4), non_survival_rates_by_port, 0.5, color='y', bottom=survival_rates_by_port)\n",
    "\n",
    "plt.title(\"Survival Rates by Embarking Port\")\n",
    "plt.legend((p1[0], p2[0]), ('Survivors', 'Non-survivors'), loc=3, bbox_to_anchor=(1, 0.85))\n",
    "plt.xlabel(\"Embarking Port\")\n",
    "plt.ylabel(\"Relative Passenger Count\")\n",
    "xticks_location = (1.25,2.25,3.25)\n",
    "plt.xticks(xticks_location, ('C', 'Q', 'S'))"
   ]
  },
  {
   "cell_type": "markdown",
   "metadata": {},
   "source": [
    "###### Figure 13: Relative proportion of survivors b/w embarking ports"
   ]
  },
  {
   "cell_type": "markdown",
   "metadata": {},
   "source": [
    "Figures 11 through 13 show the number of passengers that embarked at each of the three ports, the number of survivors for each of the ports, and the relative survival rate for these three ports. While the survival rate for passengers boarding from Cherbourg was slightly higher, it was about the same for passengers who boarded from Southampton and Queenstown."
   ]
  },
  {
   "cell_type": "markdown",
   "metadata": {},
   "source": [
    "# Optional: Logistic Regression: Model Coefficients & Statistical Significance"
   ]
  },
  {
   "cell_type": "markdown",
   "metadata": {},
   "source": [
    "The purpose of this exerice is to determine if the variables highlighted in the foregoing discussion actually have a statistically significant effect on the the probability of survival of the passengers. The goal was not to build a robust model but rather objectively quantify the effect of the independent variables in the data set on the response variable. So in this context I used the entire data set for training the model rather than splitting the data into training and test data sets because I was not interested in obtaining out-of-sample accuracies or any other similar metrics.\n",
    "Considering the problem (two probable outcomes) at hand, a binary choice model is the approach to take. I used a logistic specification for the problem."
   ]
  },
  {
   "cell_type": "code",
   "execution_count": 681,
   "metadata": {
    "collapsed": false
   },
   "outputs": [],
   "source": [
    "y, X = dmatrices('Survived ~ Fare + Age + C(Embarked) + C(Pclass) + SibSp + Parch + C(Sex)', titanic_data, return_type=\"dataframe\")"
   ]
  },
  {
   "cell_type": "markdown",
   "metadata": {},
   "source": [
    "I start by converting the \"Titanic\" dataframe into a matrix with a one-dimensional array for the response variable and two-dimensional array for the regressors in the model. As a starting point, I used the categorical variables \"Embarked\", \"Sex\", and \"Pclass\" and the continuous variables \"Fare\", \"Age\", \"Parch\", and \"SibSp\"."
   ]
  },
  {
   "cell_type": "code",
   "execution_count": 577,
   "metadata": {
    "collapsed": false
   },
   "outputs": [
    {
     "name": "stdout",
     "output_type": "stream",
     "text": [
      "Index([u'Intercept', u'C(Embarked)[T.Q]', u'C(Embarked)[T.S]',\n",
      "       u'C(Pclass)[T.2]', u'C(Pclass)[T.3]', u'C(Sex)[T.male]', u'Fare',\n",
      "       u'Age', u'SibSp', u'Parch'],\n",
      "      dtype='object')\n"
     ]
    }
   ],
   "source": [
    "print X.columns"
   ]
  },
  {
   "cell_type": "markdown",
   "metadata": {},
   "source": [
    "I wanted to check the names of the dummy variables created for each of the categorical variables. It should be noted that the dummy variables measure the additional effect of the particular value of categorical variable with respect to the baseline. In this case, \"Cherbourg\" was the baseline embarking port, \"Female\" was the baseline value for the \"Sex\" variable, and Class 1 was the baseline value for the passenger class. "
   ]
  },
  {
   "cell_type": "code",
   "execution_count": 609,
   "metadata": {
    "collapsed": false
   },
   "outputs": [],
   "source": [
    "y_flat = np.ravel(y['Survived[1]'])"
   ]
  },
  {
   "cell_type": "markdown",
   "metadata": {},
   "source": [
    "I noticed that convertng the response variable (Survived) into a matrix created a two-dimensional array with the number of rows being same as the number of observation but two separate rows for the outcome, one where the values were coded for Survived = 1 and the other being Survived = 0. I chose to model the \"Survived = 1\" column implying that the coefficients will predict the probablity of survival opposed to non-survival. "
   ]
  },
  {
   "cell_type": "code",
   "execution_count": 619,
   "metadata": {
    "collapsed": false
   },
   "outputs": [
    {
     "name": "stdout",
     "output_type": "stream",
     "text": [
      "('Parameters: ', Intercept           4.104468\n",
      "C(Embarked)[T.Q]   -0.028504\n",
      "C(Embarked)[T.S]   -0.439785\n",
      "C(Pclass)[T.2]     -0.931609\n",
      "C(Pclass)[T.3]     -2.155635\n",
      "C(Sex)[T.male]     -2.718753\n",
      "Fare                0.002296\n",
      "Age                -0.039088\n",
      "SibSp              -0.323446\n",
      "Parch              -0.097054\n",
      "dtype: float64)\n",
      "        Logit Marginal Effects       \n",
      "=====================================\n",
      "Dep. Variable:                      y\n",
      "Method:                          dydx\n",
      "At:                           overall\n",
      "====================================================================================\n",
      "                      dy/dx    std err          z      P>|z|      [95.0% Conf. Int.]\n",
      "------------------------------------------------------------------------------------\n",
      "C(Embarked)[T.Q]    -0.0040      0.054     -0.075      0.941        -0.109     0.101\n",
      "C(Embarked)[T.S]    -0.0617      0.033     -1.845      0.065        -0.127     0.004\n",
      "C(Pclass)[T.2]      -0.1306      0.041     -3.180      0.001        -0.211    -0.050\n",
      "C(Pclass)[T.3]      -0.3022      0.038     -7.911      0.000        -0.377    -0.227\n",
      "C(Sex)[T.male]      -0.3812      0.016    -24.578      0.000        -0.412    -0.351\n",
      "Fare                 0.0003      0.000      0.932      0.351        -0.000     0.001\n",
      "Age                 -0.0055      0.001     -5.193      0.000        -0.008    -0.003\n",
      "SibSp               -0.0453      0.015     -2.997      0.003        -0.075    -0.016\n",
      "Parch               -0.0136      0.017     -0.817      0.414        -0.046     0.019\n",
      "====================================================================================\n"
     ]
    }
   ],
   "source": [
    "model = sm.Logit(y_flat, X)\n",
    "model_summary = model.fit(disp=0)\n",
    "print('Parameters: ', model_summary.params)\n",
    "\n",
    "model_significance = model_summary.get_margeff()\n",
    "print(model_significance.summary())"
   ]
  },
  {
   "cell_type": "markdown",
   "metadata": {},
   "source": [
    "The model summary is shown above. I am going to summarize my findings below.\n",
    "1. Figures 10 through 12 suggested that the survival rate for passenger who boarded from Cherbourg was slightly higher than the other two locations, the model summary presented above suggest that the difference is not statistically significant.\n",
    "2. Passenger classes 2 and 3 were both found statistically significant. The negative coefficient indicate that the probability of survival for passengers traveling in those classes is lower than somebody traveling in Class 1 (baseline). The coefficient for passenger class 3 was lower than class 2 which reinforces the trend that was earlier observed: Survival(Class 1) > Survival(Class 2) > Survival(Class 3).\n",
    "3. The significance of the variable \"Fare\" suggests that it was not significant. This was also expected as we also included passenger class in our model and these two variables are highly correlated. Therefore, the predictive power for \"Fare\" is greatly diminshed as it is already accounted through inclusion of passenger class in our model.\n",
    "4. The effect of \"Age\" on the probability of survival was also found significant. The negative coefficient suggests that the probability of survival for older people is relatively smaller than younger people which aligns with our expectation as children were priortized in the rescue operation of the Titanic passengers.\n",
    "5. The dummy variable for male passengers was also statistically significant. Just as I expected, the negative coeeficient suggest that the probability of survival for male passengers was significantly less than females.\n",
    "6. The effect of \"SibSp\" on the probability of survival was found significant. The negative sign indicate that passengers travelling with their spouse or siblings are less likely to survive the accident. This could be a result of how passenger were priortized for the rescue operation.\n",
    "7. Finally, the effect of the variable \"Parch\" on the probability of survival of Titanic passengers was found to be statistically insignificant."
   ]
  },
  {
   "cell_type": "markdown",
   "metadata": {},
   "source": [
    "# Conclusion"
   ]
  },
  {
   "cell_type": "markdown",
   "metadata": {},
   "source": [
    "As part of this exercise, I looked at the Titanic passenger data. I started by loading the data from the csv file into a dataframe. I noticed that three of the variables - Age, Embarked, and Cabin contained NULL. The missing values for Age was replaced with the average age for the Titanic passenger data set. The missing embarking ports were replaced with the most frequent embarking port (Southampton). The missing values for \"Cabin\" were left as they were as there was no logical way to replace them. Furthermore, \"Cabin\" being a nominal variable would have little to no bearing on the survival rate for the Titanic passengers.\n",
    "In the following section, I looked at some descriptive statistics which included univariate statitics for Survived to determine how many survivors and non-survivors we had in the dataset. This was folllowed by looking at bivariate statisitics to obtain insight of the trend between the explanatory variables and the response variable. To that effect, I looked at the cross-section of Fare, Sex, Embarked, Age, and SibSp. The tabular and graphical data suggested the following trend in the survival rate among the Titanic passengers:\n",
    "i. Survival(Female) > Survival(Male)\n",
    "ii. Survival(Class 1) > Survival(Class 2) > Survival(Class 3)\n",
    "iii. Survival(Higher fare) > Survival(Lower fare)\n",
    "iv. Survival(Younger passengers) > Survival(Older passengers)\n",
    "v. Survival(Passengers embarked from Cherbourg) > Survival(Passenger embarked at Southampton or Queenstown)\n",
    "While this analysis gave a qualitative definition regarding trends in the passenger survival rates, most of it was based on visual examination of the data and point estimates. \n",
    "To complement these findings and to obtain more confidence in the trend, I modeled the passenger data using a logistic specification. I modeled the log of odds of survival as a linear response to the regressors in our dataset (Age, Sex, SibSp, Parch, Embarked, Fare, and Pclass). The model summary suggested similar findings as our observations from the visual inspection of the data. The survival probability was higher for passengers traveling in class 1 was higher than that of class 2 and class 2 than that of class 3. Furthermore the probability of survival was higher for female passengers w.r.t. males and younger people w.r.t. older people. Contrary to previous findings, the probability of survival for passengers boarding from Cherbourg was not statitically different from Queenstown or Southampton. Last but not the least, the effect of \"Fare\" on the chances of survival was found statitically insignificant but this was expected as the passenger class and fare variables were cited as highly correlated and hence the predictive power of \"Fare\" was diminished."
   ]
  },
  {
   "cell_type": "code",
   "execution_count": 692,
   "metadata": {
    "collapsed": false
   },
   "outputs": [
    {
     "data": {
      "text/plain": [
       "<matplotlib.legend.Legend at 0x13e977790>"
      ]
     },
     "execution_count": 692,
     "metadata": {},
     "output_type": "execute_result"
    },
    {
     "data": {
      "image/png": "[encoded data removed]",
      "text/plain": [
       "<matplotlib.figure.Figure at 0x13f1b3350>"
      ]
     },
     "metadata": {},
     "output_type": "display_data"
    }
   ],
   "source": [
    "sns.distplot(titanic_data_orig.Age.dropna(), kde = False, label = 'Default', color='black')\n",
    "sns.distplot(titanic_data_orig.Age.fillna(titanic_data_orig.Age.mean()), kde = False, label = 'Imputed', color = \"red\")\n",
    "plt.title('Comparison between\\nDefault and Imputed\\nAge Values')\n",
    "plt.legend()"
   ]
  },
  {
   "cell_type": "markdown",
   "metadata": {},
   "source": [
    "###### Figure 14: Default vs imputed Age Values"
   ]
  },
  {
   "cell_type": "markdown",
   "metadata": {},
   "source": [
    "With respect to the observations presented above, there is one caveat. I have cited earlier that there were 177 observations that had missing values for \"Age\" and these were imputed with the mean of \"Age\" obtained from all other observations. As a result, we see that the bucket containing 30 in Figure 14 is the most frequent age group. Should someone choose to impute these values in a different way or remove the observations altogether, the findings can change and the significance of Age in determining the probability of survival will vary."
   ]
  }
 ],
 "metadata": {
  "kernelspec": {
   "display_name": "Python 2",
   "language": "python",
   "name": "python2"
  },
  "language_info": {
   "codemirror_mode": {
    "name": "ipython",
    "version": 2
   },
   "file_extension": ".py",
   "mimetype": "text/x-python",
   "name": "python",
   "nbconvert_exporter": "python",
   "pygments_lexer": "ipython2",
   "version": "2.7.11"
  }
 },
 "nbformat": 4,
 "nbformat_minor": 0
}
